{
 "cells": [
  {
   "cell_type": "markdown",
   "metadata": {},
   "source": [
    "## NetLogo"
   ]
  },
  {
   "cell_type": "markdown",
   "metadata": {},
   "source": [
    "NetLogo is a multi-agent programming and modeling environment that simulates complex phenomena, with a large model library, both participatory simulation models and traditional models. It is designed for research and education and is used by a wide range of disciplines. It covers the social sciences, economics, biology, medicine, physics, chemistry, mathematics and computer science. The design concept of NetLogo \"low threshold, high ceiling\" is inherited from Logo, an educational programming language. In general, NetLogo was chosen to build the model in this study because it is a software that is friendly to new modelers, has extensive resources and can easily help researchers achieve their expectations."
   ]
  },
  {
   "cell_type": "markdown",
   "metadata": {},
   "source": [
    "## Literature Review"
   ]
  },
  {
   "cell_type": "markdown",
   "metadata": {},
   "source": []
  },
  {
   "cell_type": "markdown",
   "metadata": {},
   "source": []
  },
  {
   "cell_type": "markdown",
   "metadata": {},
   "source": []
  },
  {
   "cell_type": "markdown",
   "metadata": {},
   "source": []
  },
  {
   "cell_type": "markdown",
   "metadata": {},
   "source": []
  },
  {
   "cell_type": "markdown",
   "metadata": {},
   "source": []
  }
 ],
 "metadata": {
  "kernelspec": {
   "display_name": "Python 3",
   "language": "python",
   "name": "python3"
  },
  "language_info": {
   "codemirror_mode": {
    "name": "ipython",
    "version": 3
   },
   "file_extension": ".py",
   "mimetype": "text/x-python",
   "name": "python",
   "nbconvert_exporter": "python",
   "pygments_lexer": "ipython3",
   "version": "3.7.0"
  }
 },
 "nbformat": 4,
 "nbformat_minor": 2
}
